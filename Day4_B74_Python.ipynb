{
 "cells": [
  {
   "cell_type": "code",
   "execution_count": 1,
   "id": "7c1bb99b",
   "metadata": {},
   "outputs": [
    {
     "name": "stdout",
     "output_type": "stream",
     "text": [
      "hellow\n"
     ]
    }
   ],
   "source": [
    "print('hellow')"
   ]
  },
  {
   "cell_type": "code",
   "execution_count": 2,
   "id": "1698d738",
   "metadata": {},
   "outputs": [
    {
     "ename": "NameError",
     "evalue": "name 'hellow' is not defined",
     "output_type": "error",
     "traceback": [
      "\u001b[1;31m---------------------------------------------------------------------------\u001b[0m",
      "\u001b[1;31mNameError\u001b[0m                                 Traceback (most recent call last)",
      "Input \u001b[1;32mIn [2]\u001b[0m, in \u001b[0;36m<cell line: 1>\u001b[1;34m()\u001b[0m\n\u001b[1;32m----> 1\u001b[0m \u001b[38;5;28mprint\u001b[39m(\u001b[43mhellow\u001b[49m)\n",
      "\u001b[1;31mNameError\u001b[0m: name 'hellow' is not defined"
     ]
    }
   ],
   "source": [
    "print(hellow)"
   ]
  },
  {
   "cell_type": "code",
   "execution_count": 3,
   "id": "1b5b4a31",
   "metadata": {},
   "outputs": [
    {
     "name": "stdout",
     "output_type": "stream",
     "text": [
      "hellow\n"
     ]
    }
   ],
   "source": [
    "print(\"hellow\")"
   ]
  },
  {
   "cell_type": "code",
   "execution_count": 7,
   "id": "c1d7c0e6",
   "metadata": {},
   "outputs": [
    {
     "name": "stdout",
     "output_type": "stream",
     "text": [
      "Santhi\n"
     ]
    }
   ],
   "source": [
    "firstname=\"Santhi\"\n",
    "print(firstname)"
   ]
  },
  {
   "cell_type": "code",
   "execution_count": 8,
   "id": "d61ff681",
   "metadata": {},
   "outputs": [
    {
     "data": {
      "text/plain": [
       "str"
      ]
     },
     "execution_count": 8,
     "metadata": {},
     "output_type": "execute_result"
    }
   ],
   "source": [
    "type(firstname)"
   ]
  },
  {
   "cell_type": "code",
   "execution_count": 9,
   "id": "50079472",
   "metadata": {},
   "outputs": [
    {
     "name": "stdout",
     "output_type": "stream",
     "text": [
      "Santhi\n"
     ]
    }
   ],
   "source": [
    "first_name=\"Santhi\"\n",
    "print(first_name)"
   ]
  },
  {
   "cell_type": "code",
   "execution_count": 10,
   "id": "a7cc1be0",
   "metadata": {},
   "outputs": [
    {
     "name": "stdout",
     "output_type": "stream",
     "text": [
      "Santhi\n"
     ]
    }
   ],
   "source": [
    "first_name1=\"Santhi\"\n",
    "print(first_name1)"
   ]
  },
  {
   "cell_type": "code",
   "execution_count": 12,
   "id": "256183ad",
   "metadata": {},
   "outputs": [
    {
     "ename": "SyntaxError",
     "evalue": "invalid syntax (1323017628.py, line 1)",
     "output_type": "error",
     "traceback": [
      "\u001b[1;36m  Input \u001b[1;32mIn [12]\u001b[1;36m\u001b[0m\n\u001b[1;33m    @first_name=\"Santhi\"\u001b[0m\n\u001b[1;37m               ^\u001b[0m\n\u001b[1;31mSyntaxError\u001b[0m\u001b[1;31m:\u001b[0m invalid syntax\n"
     ]
    }
   ],
   "source": [
    "first_name=\"Santhi\"\n",
    "print(@first_name)"
   ]
  },
  {
   "cell_type": "code",
   "execution_count": 13,
   "id": "b01fe237",
   "metadata": {},
   "outputs": [
    {
     "data": {
      "text/plain": [
       "str"
      ]
     },
     "execution_count": 13,
     "metadata": {},
     "output_type": "execute_result"
    }
   ],
   "source": [
    "type(first_name)"
   ]
  },
  {
   "cell_type": "code",
   "execution_count": 14,
   "id": "ac7af60a",
   "metadata": {},
   "outputs": [
    {
     "ename": "NameError",
     "evalue": "name 'Santhi' is not defined",
     "output_type": "error",
     "traceback": [
      "\u001b[1;31m---------------------------------------------------------------------------\u001b[0m",
      "\u001b[1;31mNameError\u001b[0m                                 Traceback (most recent call last)",
      "Input \u001b[1;32mIn [14]\u001b[0m, in \u001b[0;36m<cell line: 1>\u001b[1;34m()\u001b[0m\n\u001b[1;32m----> 1\u001b[0m \u001b[38;5;28mtype\u001b[39m(\u001b[43mSanthi\u001b[49m)\n",
      "\u001b[1;31mNameError\u001b[0m: name 'Santhi' is not defined"
     ]
    }
   ],
   "source": [
    "type(Santhi)"
   ]
  },
  {
   "cell_type": "code",
   "execution_count": 15,
   "id": "e905d948",
   "metadata": {},
   "outputs": [
    {
     "name": "stdout",
     "output_type": "stream",
     "text": [
      "Santhi swaroopa\n"
     ]
    }
   ],
   "source": [
    "first_name=\"Santhi swaroopa\"\n",
    "print(first_name)"
   ]
  },
  {
   "cell_type": "code",
   "execution_count": 16,
   "id": "0ceb68ba",
   "metadata": {},
   "outputs": [
    {
     "name": "stdout",
     "output_type": "stream",
     "text": [
      "santhi swaroopa\n"
     ]
    }
   ],
   "source": [
    "first_name=\"santhi swaroopa\"\n",
    "print(first_name)"
   ]
  },
  {
   "cell_type": "code",
   "execution_count": 17,
   "id": "c2f8a908",
   "metadata": {},
   "outputs": [
    {
     "name": "stdout",
     "output_type": "stream",
     "text": [
      "Santhi Swaroopa\n"
     ]
    }
   ],
   "source": [
    "first_name=\"santhi swaroopa\"\n",
    "print(first_name.title())"
   ]
  },
  {
   "cell_type": "code",
   "execution_count": 18,
   "id": "394c30a8",
   "metadata": {},
   "outputs": [
    {
     "name": "stdout",
     "output_type": "stream",
     "text": [
      "SANTHI SWAROOPA\n"
     ]
    }
   ],
   "source": [
    "first_name=\"santhi swaroopa\"\n",
    "print(first_name.upper())"
   ]
  },
  {
   "cell_type": "code",
   "execution_count": 19,
   "id": "eba22572",
   "metadata": {},
   "outputs": [
    {
     "name": "stdout",
     "output_type": "stream",
     "text": [
      "santhi swaroopa\n"
     ]
    }
   ],
   "source": [
    "first_name=\"santhi swaroopa\"\n",
    "print(first_name.lower())"
   ]
  },
  {
   "cell_type": "code",
   "execution_count": 27,
   "id": "40946150",
   "metadata": {},
   "outputs": [
    {
     "name": "stdout",
     "output_type": "stream",
     "text": [
      "Santhi Swaroopa\n"
     ]
    }
   ],
   "source": [
    "first_name=\"santhi\"\n",
    "Last_name=\"swaroopa\"\n",
    "Fullname=f\"{first_name.title()} {Last_name.title()}\"\n",
    "print(Fullname)"
   ]
  },
  {
   "cell_type": "code",
   "execution_count": 23,
   "id": "57758e40",
   "metadata": {},
   "outputs": [
    {
     "name": "stdout",
     "output_type": "stream",
     "text": [
      "Santhi Swaroopa\n"
     ]
    }
   ],
   "source": [
    "print(Fullname.title())"
   ]
  },
  {
   "cell_type": "code",
   "execution_count": 26,
   "id": "a7bbec79",
   "metadata": {},
   "outputs": [
    {
     "name": "stdout",
     "output_type": "stream",
     "text": [
      "good_work,Santhi Swaroopa\n"
     ]
    }
   ],
   "source": [
    "message=f\"good_work,{Fullname.title()}\"\n",
    "print(message)"
   ]
  },
  {
   "cell_type": "code",
   "execution_count": 29,
   "id": "887ecd32",
   "metadata": {},
   "outputs": [
    {
     "name": "stdout",
     "output_type": "stream",
     "text": [
      "i am a hard working,Santhi Swaroopa\n"
     ]
    }
   ],
   "source": [
    "message=f\"i am a hard working,{Fullname.title()}\"\n",
    "print(message)"
   ]
  },
  {
   "cell_type": "code",
   "execution_count": 30,
   "id": "b019898e",
   "metadata": {},
   "outputs": [
    {
     "data": {
      "text/plain": [
       "str"
      ]
     },
     "execution_count": 30,
     "metadata": {},
     "output_type": "execute_result"
    }
   ],
   "source": [
    "type(message)"
   ]
  },
  {
   "cell_type": "code",
   "execution_count": 31,
   "id": "ee63f185",
   "metadata": {},
   "outputs": [
    {
     "name": "stdout",
     "output_type": "stream",
     "text": [
      "Favourate languages:SeleniumcJavaC++pyhonAutomation\n"
     ]
    }
   ],
   "source": [
    "print(\"Favourate languages:SeleniumcJavaC++pyhonAutomation\")"
   ]
  },
  {
   "cell_type": "code",
   "execution_count": 32,
   "id": "0cfffb89",
   "metadata": {},
   "outputs": [
    {
     "name": "stdout",
     "output_type": "stream",
     "text": [
      "Favourate languages:\n",
      "Selenium\n",
      "c\n",
      "Java\n",
      "C++\n",
      "pyhon\n",
      "Automation\n"
     ]
    }
   ],
   "source": [
    "print(\"Favourate languages:\\nSelenium\\nc\\nJava\\nC++\\npyhon\\nAutomation\")"
   ]
  },
  {
   "cell_type": "code",
   "execution_count": 33,
   "id": "cb9c9c32",
   "metadata": {},
   "outputs": [
    {
     "name": "stdout",
     "output_type": "stream",
     "text": [
      "Favourate languages:\n",
      "\tSelenium\n",
      "\tc\n",
      "\tJava\n",
      "\tC++\n",
      "pyhon\n",
      "Automation\n"
     ]
    }
   ],
   "source": [
    "print(\"Favourate languages:\\n\\tSelenium\\n\\tc\\n\\tJava\\n\\tC++\\npyhon\\nAutomation\")"
   ]
  },
  {
   "cell_type": "code",
   "execution_count": 35,
   "id": "a874e98f",
   "metadata": {},
   "outputs": [
    {
     "name": "stdout",
     "output_type": "stream",
     "text": [
      "Santhi\n"
     ]
    }
   ],
   "source": [
    "firstname=\"Santhi\"\n",
    "print(firstname)"
   ]
  },
  {
   "cell_type": "code",
   "execution_count": 36,
   "id": "589c7443",
   "metadata": {},
   "outputs": [
    {
     "name": "stdout",
     "output_type": "stream",
     "text": [
      "Santhi  \n"
     ]
    }
   ],
   "source": [
    "firstname1=\"Santhi  \"\n",
    "print(firstname1)"
   ]
  },
  {
   "cell_type": "code",
   "execution_count": 37,
   "id": "fc5f70ae",
   "metadata": {},
   "outputs": [
    {
     "name": "stdout",
     "output_type": "stream",
     "text": [
      "  Santhi\n"
     ]
    }
   ],
   "source": [
    "firstname2=\"  Santhi\"\n",
    "print(firstname2)"
   ]
  },
  {
   "cell_type": "code",
   "execution_count": 38,
   "id": "8289225f",
   "metadata": {},
   "outputs": [
    {
     "name": "stdout",
     "output_type": "stream",
     "text": [
      "Santhi  \n"
     ]
    }
   ],
   "source": [
    "firstname1.rstrip()\n",
    "print(firstname1)"
   ]
  },
  {
   "cell_type": "code",
   "execution_count": 39,
   "id": "e8de2654",
   "metadata": {},
   "outputs": [
    {
     "data": {
      "text/plain": [
       "'Santhi'"
      ]
     },
     "execution_count": 39,
     "metadata": {},
     "output_type": "execute_result"
    }
   ],
   "source": [
    "firstname1.rstrip()"
   ]
  },
  {
   "cell_type": "code",
   "execution_count": 40,
   "id": "a1b280dc",
   "metadata": {},
   "outputs": [
    {
     "data": {
      "text/plain": [
       "'Santhi'"
      ]
     },
     "execution_count": 40,
     "metadata": {},
     "output_type": "execute_result"
    }
   ],
   "source": [
    "firstname2.lstrip()"
   ]
  },
  {
   "cell_type": "code",
   "execution_count": 41,
   "id": "fac3f469",
   "metadata": {},
   "outputs": [
    {
     "name": "stdout",
     "output_type": "stream",
     "text": [
      "  Santhi   \n"
     ]
    }
   ],
   "source": [
    "firstname2=\"  Santhi   \"\n",
    "print(firstname2)"
   ]
  },
  {
   "cell_type": "code",
   "execution_count": 42,
   "id": "4c77972b",
   "metadata": {},
   "outputs": [
    {
     "data": {
      "text/plain": [
       "'Santhi'"
      ]
     },
     "execution_count": 42,
     "metadata": {},
     "output_type": "execute_result"
    }
   ],
   "source": [
    "firstname2.strip()"
   ]
  },
  {
   "cell_type": "code",
   "execution_count": null,
   "id": "fbd75d2b",
   "metadata": {},
   "outputs": [],
   "source": []
  }
 ],
 "metadata": {
  "kernelspec": {
   "display_name": "Python 3 (ipykernel)",
   "language": "python",
   "name": "python3"
  },
  "language_info": {
   "codemirror_mode": {
    "name": "ipython",
    "version": 3
   },
   "file_extension": ".py",
   "mimetype": "text/x-python",
   "name": "python",
   "nbconvert_exporter": "python",
   "pygments_lexer": "ipython3",
   "version": "3.9.12"
  }
 },
 "nbformat": 4,
 "nbformat_minor": 5
}
